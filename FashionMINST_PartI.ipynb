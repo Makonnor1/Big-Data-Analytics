{
  "cells": [
    {
      "cell_type": "markdown",
      "metadata": {
        "id": "KkFzsJ0OEZXC"
      },
      "source": []
    },
    {
      "cell_type": "code",
      "execution_count": 1,
      "metadata": {
        "id": "w7EbKlLH5TqV"
      },
      "outputs": [],
      "source": [
        "# Import the necessary libraries\n",
        "import numpy as np\n",
        "import pandas as pd\n",
        "import sklearn\n",
        "from sklearn.neighbors import KNeighborsClassifier\n",
        "from sklearn.datasets import fetch_openml\n",
        "from sklearn.utils import check_random_state\n",
        "from sklearn.model_selection import train_test_split"
      ]
    },
    {
      "cell_type": "markdown",
      "metadata": {
        "id": "fESmB75b-OTd"
      },
      "source": [
        "# Importing the Data"
      ]
    },
    {
      "cell_type": "markdown",
      "metadata": {
        "id": "K1Lv1RWL-RGN"
      },
      "source": [
        "The research question is can we use algorithms and compute to identify clothing items? Specifically, can we determine which algorithm and compute methodology provides us the most efficient approach for classifying simple fashion images?"
      ]
    },
    {
      "cell_type": "code",
      "execution_count": 2,
      "metadata": {
        "id": "yhbHcgR46CwS"
      },
      "outputs": [],
      "source": [
        "# import the Fashion-Mnist Data fro Open ML\n",
        "X, y = fetch_openml('Fashion-MNIST', version=1, return_X_y=True)"
      ]
    },
    {
      "cell_type": "code",
      "execution_count": 4,
      "metadata": {
        "id": "G4zi_6OFn6-o"
      },
      "outputs": [],
      "source": [
        "train_samples = 60000"
      ]
    },
    {
      "cell_type": "code",
      "execution_count": 5,
      "metadata": {
        "id": "2jI-KB7f7HMo"
      },
      "outputs": [],
      "source": [
        "# create the training and testing split\n",
        "X_train, X_test, y_train, y_test = train_test_split(\n",
        "    X, y, train_size=train_samples, test_size=10000)"
      ]
    },
    {
      "cell_type": "markdown",
      "metadata": {},
      "source": [
        "# Running Various Models on the Fashion-MNIST Data:"
      ]
    },
    {
      "cell_type": "markdown",
      "metadata": {
        "id": "EV30Riqz9l9O"
      },
      "source": [
        "## Random Forest"
      ]
    },
    {
      "cell_type": "code",
      "execution_count": 6,
      "metadata": {
        "colab": {
          "base_uri": "https://localhost:8080/"
        },
        "id": "H3Z0nrcK86TH",
        "outputId": "7a97a316-361f-4a9d-d9f8-e35ee6a4422d"
      },
      "outputs": [
        {
          "name": "stdout",
          "output_type": "stream",
          "text": [
            "Score:  0.8889\n"
          ]
        }
      ],
      "source": [
        "# RANDOM FOREST (Code provided my Jon Fox)\n",
        "from sklearn.ensemble import RandomForestClassifier \n",
        "forest = RandomForestClassifier(n_estimators = 500)\n",
        "forest.fit(X_train, y_train)\n",
        "print('Score: ', forest.score(X_test, y_test))\n",
        "predictions = forest.predict(X_test)"
      ]
    },
    {
      "cell_type": "markdown",
      "metadata": {
        "id": "la6gwg789tRs"
      },
      "source": [
        "## K-Nearest Neighbors\n"
      ]
    },
    {
      "cell_type": "code",
      "execution_count": 7,
      "metadata": {
        "colab": {
          "base_uri": "https://localhost:8080/"
        },
        "id": "rL9NQieErH_Z",
        "outputId": "1e70ca36-bd18-485a-e27c-a0688859a4b9"
      },
      "outputs": [
        {
          "data": {
            "text/plain": [
              "0.9205428571428571"
            ]
          },
          "execution_count": 7,
          "metadata": {},
          "output_type": "execute_result"
        }
      ],
      "source": [
        "# K-Nearest Neighbors (Code provided my Jon Fox)\n",
        "neigh = KNeighborsClassifier(n_neighbors=3)\n",
        "neigh.fit(X, y)\n",
        "neigh.score(X, y)\n"
      ]
    },
    {
      "cell_type": "markdown",
      "metadata": {
        "id": "g4bSJGiKGK-m"
      },
      "source": [
        "## Bayes"
      ]
    },
    {
      "cell_type": "code",
      "execution_count": 8,
      "metadata": {
        "id": "u_jEdD8WGrFc"
      },
      "outputs": [],
      "source": [
        "# import packages from sklearn\n",
        "from sklearn.naive_bayes import GaussianNB\n",
        "from sklearn.metrics import accuracy_score"
      ]
    },
    {
      "cell_type": "code",
      "execution_count": 9,
      "metadata": {
        "id": "l6nkxhRWGw06"
      },
      "outputs": [],
      "source": [
        "# MODEL (Code provided my Jon Fox)\n",
        "\n",
        "# Initialize our classifier\n",
        "gnb = GaussianNB()\n",
        "\n",
        "# Train our classifier\n",
        "model = gnb.fit(X_train, y_train)"
      ]
    },
    {
      "cell_type": "code",
      "execution_count": 10,
      "metadata": {
        "id": "05ZAR5c1HP2e"
      },
      "outputs": [],
      "source": [
        "# MODEL\n",
        "\n",
        "# Make predictions\n",
        "preds = gnb.predict(X_test)\n",
        "# print(preds)"
      ]
    },
    {
      "cell_type": "code",
      "execution_count": 12,
      "metadata": {
        "colab": {
          "base_uri": "https://localhost:8080/"
        },
        "id": "hi4bSVmpHX71",
        "outputId": "30d489dc-fe41-4b45-a13d-f8a3c6a3340c"
      },
      "outputs": [
        {
          "name": "stdout",
          "output_type": "stream",
          "text": [
            "0.6184\n"
          ]
        }
      ],
      "source": [
        "# MODEL\n",
        "\n",
        "# Evaluate accuracy\n",
        "print(accuracy_score(y_test, preds))"
      ]
    },
    {
      "cell_type": "code",
      "execution_count": 18,
      "metadata": {
        "colab": {
          "base_uri": "https://localhost:8080/"
        },
        "id": "wmzDUYNTHk0n",
        "outputId": "14aa0bde-21ac-4509-d2cf-661fe70cf142"
      },
      "outputs": [
        {
          "name": "stdout",
          "output_type": "stream",
          "text": [
            "[[618  35  31 187  75   0  14   0  29   0]\n",
            " [  2 926  11  47   3   0   6   0   0   0]\n",
            " [  1   6 323  75 536   0  24   0  15   0]\n",
            " [  8 254   7 710  26   0   3   0   2   0]\n",
            " [  1  28  44 150 717   0   5   0   8   0]\n",
            " [  0   1   1   1   0 253   3 696  14  49]\n",
            " [129  22 118 215 438   0  51   0  44   0]\n",
            " [  0   0   0   0   0   6   0 966   2  16]\n",
            " [  0   3  24 100 140   4  34   1 773   0]\n",
            " [  0   0   2   0   0  12   1 304   6 644]]\n"
          ]
        }
      ],
      "source": [
        "# INTERPRET\n",
        "\n",
        "expected = y_test\n",
        "predicted = preds\n",
        "print(sklearn.metrics.confusion_matrix(expected, predicted))"
      ]
    }
  ],
  "metadata": {
    "colab": {
      "name": "Week7_MNIST_Classifiers.ipynb",
      "provenance": []
    },
    "kernelspec": {
      "display_name": "Python 3.9.0 ('HelloWorld-wtR9MJbb')",
      "language": "python",
      "name": "python3"
    },
    "language_info": {
      "name": "python",
      "version": "3.9.0"
    },
    "vscode": {
      "interpreter": {
        "hash": "febb2aa51308d1800f25a9c340ac83653092de36b28122c4eb4ea4d62d0bd2c1"
      }
    }
  },
  "nbformat": 4,
  "nbformat_minor": 0
}
